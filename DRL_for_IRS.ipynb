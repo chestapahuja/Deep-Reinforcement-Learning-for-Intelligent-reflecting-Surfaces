{
  "nbformat": 4,
  "nbformat_minor": 0,
  "metadata": {
    "colab": {
      "name": "DRL for IRS.ipynb",
      "provenance": [],
      "collapsed_sections": []
    },
    "kernelspec": {
      "display_name": "Python 3",
      "name": "python3"
    },
    "language_info": {
      "name": "python"
    }
  },
  "cells": [
    {
      "cell_type": "code",
      "metadata": {
        "id": "dO_S8wDFIu0j"
      },
      "source": [
        "import gym\n",
        "import torch\n",
        "import torch.nn as nn\n",
        "import torch.nn.functional as F\n",
        "import torch.optim as optim\n",
        "import numpy as np\n",
        "import matplotlib.pyplot as plt\n",
        "import math\n",
        "import cmath"
      ],
      "execution_count": null,
      "outputs": []
    },
    {
      "cell_type": "code",
      "metadata": {
        "id": "SkXK0moDJgRk"
      },
      "source": [
        "class Actor(nn.Module):\n",
        "    def __init__(self, input_size, hidden_size_1, hidden_size_2, output_size, learning_rate = 3e-4):\n",
        "        super(Actor, self).__init__()\n",
        "        self.linear1 = nn.Linear(input_size, hidden_size_1)\n",
        "        self.linear2 = nn.Linear(hidden_size_1, hidden_size_2)\n",
        "        self.linear3 = nn.Linear(hidden_size_2, output_size)\n",
        "\n",
        "        \n",
        "    def forward(self, state):\n",
        "        \"\"\"\n",
        "        Param state is a torch tensor\n",
        "        \"\"\"\n",
        "        x = F.relu(self.linear2(F.relu(self.linear1(state))))\n",
        "        x = torch.tanh(self.linear3(x))\n",
        "        return x\n",
        "\n",
        "\n",
        "\n",
        "class Critic(nn.Module):\n",
        "    def __init__(self, input_size, hidden_size_1, hidden_size_2, output_size):\n",
        "        super(Critic, self).__init__()\n",
        "        self.linear1 = nn.Linear(input_size, hidden_size_1)\n",
        "        self.linear2 = nn.Linear(hidden_size_1, hidden_size_2)\n",
        "        self.linear3 = nn.Linear(hidden_size_2, output_size)\n",
        "\n",
        "\n",
        "    def forward(self, state, action):\n",
        "        \"\"\"\n",
        "        Params state and actions are torch tensors\n",
        "        \"\"\"\n",
        "        #print(state.shape)\n",
        "        #print(action.shape)\n",
        "        x = torch.cat([state, action], dim = 1)\n",
        "        x = F.relu(self.linear2(F.relu(self.linear1(x))))\n",
        "        x = torch.tanh(self.linear3(x))\n",
        "\n",
        "        return x"
      ],
      "execution_count": null,
      "outputs": []
    },
    {
      "cell_type": "code",
      "metadata": {
        "id": "XZKw0UK6LKv0"
      },
      "source": [
        "num_states = 50\n",
        "hidden_size_1 = 300\n",
        "hidden_size_2 = 200\n",
        "num_actions = 50+1\n",
        "actor_eval = Actor(num_states, hidden_size_1, hidden_size_2, num_actions)\n",
        "actor_target = Actor(num_states, hidden_size_1, hidden_size_2, num_actions)\n",
        "critic_eval = Critic(num_states + num_actions, hidden_size_1, hidden_size_2, num_actions)\n",
        "critic_target = Critic(num_states + num_actions, hidden_size_1, hidden_size_2, num_actions)\n",
        "\n",
        "# We initialize the target networks as copies of the original networks\n",
        "for target_param, param in zip(actor_target.parameters(), actor_eval.parameters()):\n",
        "    target_param.data.copy_(param.data)\n",
        "for target_param, param in zip(critic_target.parameters(), critic_eval.parameters()):\n",
        "    target_param.data.copy_(param.data)"
      ],
      "execution_count": null,
      "outputs": []
    },
    {
      "cell_type": "code",
      "metadata": {
        "id": "-shexVGRSAGq"
      },
      "source": [
        "import random\n",
        "from collections import deque\n",
        "\n",
        "class Replay:\n",
        "    def __init__(self, max_size):\n",
        "        self.buffer = deque(maxlen=max_size)\n",
        "    \n",
        "    def push(self, state, action, reward, next_state):\n",
        "        experience = (state, action, np.array([reward]), next_state)\n",
        "        self.buffer.append(experience)\n",
        "\n",
        "    def sample(self, batch_size):\n",
        "        state_batch = []\n",
        "        action_batch = []\n",
        "        reward_batch = []\n",
        "        next_state_batch = []\n",
        "        done_batch = []\n",
        "\n",
        "        batch = random.sample(self.buffer, batch_size)\n",
        "\n",
        "        for experience in batch:\n",
        "            state, action, reward, next_state = experience\n",
        "            #print(state.shape)\n",
        "            state_batch.append(state)\n",
        "            action_batch.append(action)\n",
        "            reward_batch.append(reward)\n",
        "            next_state_batch.append(next_state)\n",
        "            #done_batch.append(done)\n",
        "        #print(state_batch)\n",
        "        #print(torch.FloatTensor(state_batch))\n",
        "        \n",
        "        return state_batch, action_batch, reward_batch, next_state_batch\n",
        "\n",
        "    def __len__(self):\n",
        "        return len(self.buffer)"
      ],
      "execution_count": null,
      "outputs": []
    },
    {
      "cell_type": "code",
      "metadata": {
        "id": "gpRNyYN9WReb"
      },
      "source": [
        "\"\"\"\n",
        "Taken from https://github.com/vitchyr/rlkit/blob/master/rlkit/exploration_strategies/ou_strategy.py\n",
        "\"\"\"\n",
        "class OUNoise(object):\n",
        "    def __init__(self, action_dim, mu=0.0, theta=0.15, max_sigma=0.3, min_sigma=0.3, decay_period=100000):\n",
        "        self.mu           = mu\n",
        "        self.theta        = theta\n",
        "        self.sigma        = max_sigma\n",
        "        self.max_sigma    = max_sigma\n",
        "        self.min_sigma    = min_sigma\n",
        "        self.decay_period = decay_period\n",
        "        self.low          = 0\n",
        "        self.high         = 2*np.pi\n",
        "        self.action_dim = action_dim\n",
        "        self.reset()\n",
        "        \n",
        "    def reset(self):\n",
        "        self.state = np.ones(self.action_dim) * self.mu\n",
        "        \n",
        "    def evolve_state(self):\n",
        "        x  = self.state\n",
        "        dx = self.theta * (self.mu - x) + self.sigma * np.random.randn(self.action_dim)\n",
        "        self.state = x + dx\n",
        "        return self.state\n",
        "    \n",
        "    def get_action(self, action, t=0): \n",
        "        ou_state = self.evolve_state()\n",
        "        self.sigma = self.max_sigma - (self.max_sigma - self.min_sigma) * min(1.0, t / self.decay_period)\n",
        "        return np.clip(action + ou_state, self.low, self.high)"
      ],
      "execution_count": null,
      "outputs": []
    },
    {
      "cell_type": "code",
      "metadata": {
        "id": "VzFbSnSOWlEG"
      },
      "source": [
        "\n",
        "import torch\n",
        "import torch.autograd\n",
        "import torch.optim as optim\n",
        "import torch.nn as nn\n",
        "\n",
        "\n",
        "class DDPGagent:\n",
        "    def __init__(self, num_states, actor_learning_rate=1e-4, critic_learning_rate=1e-3, disc_fact=0.99, tau=1e-2, max_memory_size=50000):\n",
        "        # Params\n",
        "        self.num_states = num_states\n",
        "        self.num_actions = num_states + 1\n",
        "        self.disc_fact = disc_fact\n",
        "        self.tau = tau\n",
        "\n",
        "        # Networks\n",
        "        self.actor_eval = Actor(num_states+1, hidden_size_1, hidden_size_2, num_states)\n",
        "        self.actor_target = Actor(num_states+1, hidden_size_1, hidden_size_2, num_states)\n",
        "        self.critic_eval = Critic(2*num_states+1, hidden_size_1, hidden_size_2, 1)\n",
        "        self.critic_target = Critic(2*num_states+1, hidden_size_1, hidden_size_2, 1)\n",
        "\n",
        "        for target_param, param in zip(self.actor_target.parameters(), self.actor_eval.parameters()):\n",
        "            target_param.data.copy_(param.data)\n",
        "\n",
        "        for target_param, param in zip(self.critic_target.parameters(), self.critic_eval.parameters()):\n",
        "            target_param.data.copy_(param.data)\n",
        "        \n",
        "        # Training\n",
        "        self.memory = Replay(max_memory_size)        \n",
        "        self.critic_criterion  = nn.MSELoss()\n",
        "        self.actor_optimizer  = optim.Adam(self.actor_eval.parameters(), lr=actor_learning_rate)\n",
        "        self.critic_optimizer = optim.Adam(self.critic_eval.parameters(), lr=critic_learning_rate)\n",
        "    \n",
        "    def get_action(self, state):\n",
        "        state = Variable(torch.from_numpy(state).float().unsqueeze(0))\n",
        "        #print(state.shape)\n",
        "        action = self.actor_eval.forward(state)\n",
        "        #print(action.shape)\n",
        "        action = action.detach().numpy()[0,0]\n",
        "  \n",
        "        return action.reshape((1, self.num_states))\n",
        "    \n",
        "    def update(self, batch_size):\n",
        "        states, actions, rewards, next_states = self.memory.sample(batch_size)\n",
        "        #print(states)\n",
        "        #print(states[0])\n",
        "        states = torch.FloatTensor(states)\n",
        "        #states = states.unsqueeze(1)\n",
        "        actions = torch.FloatTensor(actions)\n",
        "        rewards = torch.FloatTensor(rewards)\n",
        "        next_states = torch.FloatTensor(next_states)\n",
        "        #print(states.shape)\n",
        "        #print(actions.shape)\n",
        "        # Critic loss        \n",
        "        Qvals = self.critic_eval.forward(states, actions)\n",
        "        next_actions = self.actor_target.forward(next_states)\n",
        "        next_Q = self.critic_target.forward(next_states, next_actions.detach())\n",
        "        Qprime = rewards.clone()\n",
        "        for i in range(len(rewards)):\n",
        "          Qprime[i] = rewards[i] + self.disc_fact* next_Q[i]\n",
        "        critic_loss = self.critic_criterion(Qvals, Qprime)\n",
        "\n",
        "        # Actor loss\n",
        "        policy_loss = -self.critic_eval.forward(states, self.actor_eval.forward(states)).mean()\n",
        "        \n",
        "        # update networks\n",
        "        self.actor_optimizer.zero_grad()\n",
        "        policy_loss.backward()\n",
        "        self.actor_optimizer.step()\n",
        "\n",
        "        self.critic_optimizer.zero_grad()\n",
        "        critic_loss.backward() \n",
        "        self.critic_optimizer.step()\n",
        "\n",
        "        # update target networks \n",
        "        for target_param, param in zip(self.actor_target.parameters(), self.actor_eval.parameters()):\n",
        "            target_param.data.copy_(param.data * self.tau + target_param.data * (1.0 - self.tau))\n",
        "       \n",
        "        for target_param, param in zip(self.critic_target.parameters(), self.critic_eval.parameters()):\n",
        "            target_param.data.copy_(param.data * self.tau + target_param.data * (1.0 - self.tau))"
      ],
      "execution_count": null,
      "outputs": []
    },
    {
      "cell_type": "code",
      "metadata": {
        "id": "0SaKCLhtsz8U"
      },
      "source": [
        "#M is the number of transmitter's antennas\n",
        "#N is the number of receiver' antennas\n",
        "#dist is the distance between the transmitter and the receiver\n",
        "#pl is path-loss exponent\n",
        "#Kdb is the Rician factor in dB\n",
        "\n",
        "def Rician_Fading_Channels(M,N,dist,pl, Kdb):  \n",
        "    K = 10**(Kdb/10) #dB to mW\n",
        "    mu = np.sqrt( K/((K+1))) #direct path\n",
        "    s = np.sqrt( 1/(2*(K+1))) #scattered paths\n",
        "    Hw = mu + s*(np.random.randn(M,N)+1j*np.random.randn(M,N)) #Rician channel\n",
        "    H = np.sqrt(1/(dist**pl))*Hw  #Rician channel with pathloss  \n",
        "    return H"
      ],
      "execution_count": null,
      "outputs": []
    },
    {
      "cell_type": "code",
      "metadata": {
        "id": "S1P_s-D0rYVf"
      },
      "source": [
        "import math\n",
        "def rayleigh_fading(loss_exp, M, d):\n",
        "  path_loss = -30 + 10*loss_exp*math.log10(d/1)\n",
        "  z = []\n",
        "  for i in range(500):\n",
        "    vec = np.sqrt(path_loss)*np.random.normal(loc=0, scale=np.sqrt(2)/2, size=(M, 2)).view(np.complex128) \n",
        "    z.append(vec.T)\n",
        "  return np.mean(z, 0).reshape((M,1))"
      ],
      "execution_count": null,
      "outputs": []
    },
    {
      "cell_type": "code",
      "metadata": {
        "colab": {
          "base_uri": "https://localhost:8080/"
        },
        "id": "lBEbgPi3q3LB",
        "outputId": "73f465f7-a808-4a89-c1e4-a3ac76de57f0"
      },
      "source": [
        "1/np.inf"
      ],
      "execution_count": null,
      "outputs": [
        {
          "output_type": "execute_result",
          "data": {
            "text/plain": [
              "0.0"
            ]
          },
          "metadata": {
            "tags": []
          },
          "execution_count": 625
        }
      ]
    },
    {
      "cell_type": "code",
      "metadata": {
        "id": "zt4el8rE5YgD"
      },
      "source": [
        "def aN(N, theta, d):\n",
        "  a = []\n",
        "  for i in range(N):\n",
        "    a.append(cmath.exp(-1j*2*np.pi*i*theta/2))\n",
        "  return np.reshape(np.matrix(a), (1, N))\n"
      ],
      "execution_count": null,
      "outputs": []
    },
    {
      "cell_type": "code",
      "metadata": {
        "id": "__C9zNA81tYt"
      },
      "source": [
        "\n",
        "def rician_fading_G(loss_exp, K, Nx, Ny, M,theta_AOAh, theta_AOAv, theta_AODb, d):\n",
        "  path_loss = -30 + 10*loss_exp*math.log10(d)\n",
        "  f1 = np.sqrt(1/(1+(1/K)))\n",
        "  f2 = np.sqrt(1/(K+1))\n",
        "  aNx = aN(Nx, np.sin(theta_AOAh), d).getH()\n",
        "  #print(aNx)\n",
        "  aNy = aN(Ny, np.sin(theta_AOAv), d).getH()\n",
        "  #print(aNy)\n",
        "  aN_= aN(M, np.sin(theta_AODb), d)\n",
        "  #print(aN_)\n",
        "  bar = np.matmul(np.kron(aNx, aNy), aN_)\n",
        "  #print(bar)\n",
        "  z = []\n",
        "  for i in range(500):\n",
        "    vec = []\n",
        "    for i in range(Nx*Ny):\n",
        "      vec.append(np.random.normal(loc=0, scale=np.sqrt(2)/2, size=(M, 2)).view(np.complex128) )\n",
        "    curl = np.array(vec).squeeze(2)\n",
        "    z.append(curl)\n",
        "  vecs = np.sqrt(path_loss)*(f1*bar + f2*np.mean(z,0))\n",
        "  return vecs"
      ],
      "execution_count": null,
      "outputs": []
    },
    {
      "cell_type": "code",
      "metadata": {
        "colab": {
          "base_uri": "https://localhost:8080/"
        },
        "id": "SNIkJTo5ZCpE",
        "outputId": "bb7b033f-bb14-4a20-eb8e-e37d41151847"
      },
      "source": [
        "G_ = np.matrix(rician_fading_G(2, np.inf, 10 ,5, 10,np.pi/3, np.pi/3, np.pi/6, d))"
      ],
      "execution_count": null,
      "outputs": [
        {
          "output_type": "stream",
          "text": [
            "/usr/local/lib/python3.7/dist-packages/ipykernel_launcher.py:21: RuntimeWarning: invalid value encountered in sqrt\n"
          ],
          "name": "stderr"
        }
      ]
    },
    {
      "cell_type": "code",
      "metadata": {
        "colab": {
          "base_uri": "https://localhost:8080/"
        },
        "id": "wbAb_4hhZXfu",
        "outputId": "c86d6439-f2f0-4dcb-b364-56abf19dc1c6"
      },
      "source": [
        "d"
      ],
      "execution_count": null,
      "outputs": [
        {
          "output_type": "execute_result",
          "data": {
            "text/plain": [
              "20.0"
            ]
          },
          "metadata": {
            "tags": []
          },
          "execution_count": 648
        }
      ]
    },
    {
      "cell_type": "code",
      "metadata": {
        "colab": {
          "base_uri": "https://localhost:8080/"
        },
        "id": "4IzoLkH-A1Gh",
        "outputId": "e49dec29-d924-4bde-ac7a-5830e8d259a3"
      },
      "source": [
        "np.sqrt(-30 + 10*2*math.log10(35))"
      ],
      "execution_count": null,
      "outputs": [
        {
          "output_type": "execute_result",
          "data": {
            "text/plain": [
              "7.802650888448458"
            ]
          },
          "metadata": {
            "tags": []
          },
          "execution_count": 654
        }
      ]
    },
    {
      "cell_type": "code",
      "metadata": {
        "id": "HNlKw2OTQQqy"
      },
      "source": [
        "hr  = np.matrix(rician_fading_h(2.8, 0, 5, 3, np.pi/6, np.pi/6, 48))\n",
        "G = np.matrix(rician_fading_G(2.8, np.inf, 5, 3, 8,np.pi/3,  np.pi/3, np.pi/6, 51))\n",
        "hd = np.matrix(rayleigh_fading(5, 8, 48))\n",
        "import random\n",
        "angles = []\n",
        "num_states = 15\n",
        "an = np.linspace(0, 1, 15)\n",
        "for i in an:\n",
        "  angles.append(2*np.pi*i)\n",
        "angles_ = []\n",
        "for i in range(len(angles)):\n",
        "  angles_.append(cmath.exp(1j*angles[i]))\n",
        "np.array(angles_)\n",
        "shifts = np.diag(angles_)\n",
        "sum = np.matmul(np.matmul(hr.getH(), shifts), G) + hd.getH()"
      ],
      "execution_count": null,
      "outputs": []
    },
    {
      "cell_type": "code",
      "metadata": {
        "id": "vO9n2WgpDZBg"
      },
      "source": [
        "def rician_fading_h(loss_exp, K, Nx, Ny, theta_AODh, theta_AODv, d):\n",
        "  path_loss = -30 + 10*loss_exp*math.log10(d)\n",
        "  f1 = np.sqrt(K/(K+1))\n",
        "  f2 = np.sqrt(1/(K+1))\n",
        "  phi = np.cos(theta_AODv) * np.sin(theta_AODh)\n",
        "  a1 = aN(Ny, np.sin(theta_AODv),d).getH()\n",
        "  a2 = aN(Nx, phi, d).getH()\n",
        "  bar = np.kron(a1, a2)\n",
        "  z = []\n",
        "  for i in range(500):\n",
        "    curl = np.random.normal(loc=0, scale=np.sqrt(2)/2, size=(Nx*Ny, 2)).view(np.complex128)\n",
        "    z.append(curl)\n",
        "  vecs = np.sqrt(path_loss)*(f1*bar + f2*np.mean(z,0))\n",
        "  return vecs"
      ],
      "execution_count": null,
      "outputs": []
    },
    {
      "cell_type": "code",
      "metadata": {
        "id": "SVZ_9qV6hJsx"
      },
      "source": [
        "\n",
        "def Phase_shifts(angles, num_states, hr_, G_, hd_,  Pmax, sigma):\n",
        "  angles_ = []\n",
        "  #print(angles[2])\n",
        "  for i in range(len(angles)):\n",
        "    angles_.append(cmath.exp(1j*angles[i]))\n",
        "  shifts = np.diag(angles_)\n",
        "  return angles, shifts\n"
      ],
      "execution_count": null,
      "outputs": []
    },
    {
      "cell_type": "code",
      "metadata": {
        "id": "jNT1rquwWVze"
      },
      "source": [
        "angles, shifts = Phase_shifts(angles, 5*3, hr, G, hd, 5, 80)"
      ],
      "execution_count": null,
      "outputs": []
    },
    {
      "cell_type": "code",
      "metadata": {
        "colab": {
          "base_uri": "https://localhost:8080/"
        },
        "id": "PLJPZ0nBXNk-",
        "outputId": "1579940f-7cc2-4d92-924d-96aaf9d52526"
      },
      "source": [
        "angles"
      ],
      "execution_count": null,
      "outputs": [
        {
          "output_type": "execute_result",
          "data": {
            "text/plain": [
              "[0.0,\n",
              " 0.4487989505128276,\n",
              " 0.8975979010256552,\n",
              " 1.3463968515384828,\n",
              " 1.7951958020513104,\n",
              " 2.2439947525641375,\n",
              " 2.6927937030769655,\n",
              " 3.141592653589793,\n",
              " 3.5903916041026207,\n",
              " 4.039190554615448,\n",
              " 4.487989505128275,\n",
              " 4.9367884556411035,\n",
              " 5.385587406153931,\n",
              " 5.834386356666758,\n",
              " 6.283185307179586]"
            ]
          },
          "metadata": {
            "tags": []
          },
          "execution_count": 727
        }
      ]
    },
    {
      "cell_type": "code",
      "metadata": {
        "colab": {
          "base_uri": "https://localhost:8080/"
        },
        "id": "z_gSEKO9Y4-T",
        "outputId": "3b41dace-ee22-4301-9403-e33862e6f7fe"
      },
      "source": [
        "\n",
        "\n",
        "b = np.sqrt(5)* sum.getH() / (np.matmul( sum, sum.getH()).item())**(1/2)\n",
        "snr = (1/80)* np.abs(np.matmul(sum, b))**2\n",
        "snr = snr.item()\n",
        "snr"
      ],
      "execution_count": null,
      "outputs": [
        {
          "output_type": "execute_result",
          "data": {
            "text/plain": [
              "3.8646524554494777"
            ]
          },
          "metadata": {
            "tags": []
          },
          "execution_count": 728
        }
      ]
    },
    {
      "cell_type": "code",
      "metadata": {
        "id": "437-WE08M19p"
      },
      "source": [
        "def SNR(hr, shifts, G, hd,  Pmax, sigma):\n",
        "  #print(hr.shape)\n",
        "  #print(G.shape)\n",
        "  #print(shifts.shape)\n",
        "  #print(hd.shape)\n",
        "  sum = np.matmul(np.matmul(hr.getH(), shifts), G) + hd.getH()\n",
        "  b = np.sqrt(Pmax)* sum.getH() / np.sqrt(np.matmul(sum, sum.getH()).item())\n",
        "  snr = (1/sigma)* np.abs(np.matmul(sum, b))**2\n",
        "  return snr.item()"
      ],
      "execution_count": null,
      "outputs": []
    },
    {
      "cell_type": "code",
      "metadata": {
        "id": "7c2tkZWaYGxt"
      },
      "source": [
        "from torch.autograd import Variable\n",
        "agent = DDPGagent(5*3, actor_learning_rate=1e-3, critic_learning_rate=1e-3, disc_fact=0.95, tau= 0.005, max_memory_size=50000)\n",
        "angles.append(snr)\n",
        "state = np.matrix(angles)\n",
        "action = agent.get_action(state)"
      ],
      "execution_count": null,
      "outputs": []
    },
    {
      "cell_type": "code",
      "metadata": {
        "colab": {
          "base_uri": "https://localhost:8080/"
        },
        "id": "kOKHqmd8u144",
        "outputId": "8564ec6c-7e8d-4abd-b742-95de898e2a95"
      },
      "source": [
        "state"
      ],
      "execution_count": null,
      "outputs": [
        {
          "output_type": "execute_result",
          "data": {
            "text/plain": [
              "matrix([[ 0.        ,  0.44879895,  0.8975979 ,  1.34639685,  1.7951958 ,\n",
              "          2.24399475,  2.6927937 ,  3.14159265,  3.5903916 ,  4.03919055,\n",
              "          4.48798951,  4.93678846,  5.38558741,  5.83438636,  6.28318531,\n",
              "         55.72660706]])"
            ]
          },
          "metadata": {
            "tags": []
          },
          "execution_count": 536
        }
      ]
    },
    {
      "cell_type": "code",
      "metadata": {
        "colab": {
          "base_uri": "https://localhost:8080/"
        },
        "id": "pVbqMIj_YLwc",
        "outputId": "21ece625-2c1c-4cc8-ce3f-ce73c25ef67e"
      },
      "source": [
        "action"
      ],
      "execution_count": null,
      "outputs": [
        {
          "output_type": "execute_result",
          "data": {
            "text/plain": [
              "array([[-0.69617873,  0.89243233, -0.9474367 ,  0.6710865 , -0.6153545 ,\n",
              "         0.19047476, -0.73005676, -0.7731029 ,  0.38900527,  0.8313227 ,\n",
              "         0.20968774,  0.961798  ,  0.7920115 , -0.630361  ,  0.9530088 ]],\n",
              "      dtype=float32)"
            ]
          },
          "metadata": {
            "tags": []
          },
          "execution_count": 537
        }
      ]
    },
    {
      "cell_type": "code",
      "metadata": {
        "colab": {
          "base_uri": "https://localhost:8080/"
        },
        "id": "vUrTg9CDSgv8",
        "outputId": "aa512159-3a7e-45e6-a5d0-5e51c5cb1408"
      },
      "source": [
        "noise = OUNoise(5*3)\n",
        "noise.reset()\n",
        "noise.get_action(action)[0]"
      ],
      "execution_count": null,
      "outputs": [
        {
          "output_type": "execute_result",
          "data": {
            "text/plain": [
              "array([0.        , 1.43575951, 0.        , 0.81186771, 0.        ,\n",
              "       0.        , 0.        , 0.        , 0.15577834, 0.48152421,\n",
              "       0.27477716, 0.89641577, 1.34822109, 0.        , 1.35662631])"
            ]
          },
          "metadata": {
            "tags": []
          },
          "execution_count": 538
        }
      ]
    },
    {
      "cell_type": "code",
      "metadata": {
        "colab": {
          "base_uri": "https://localhost:8080/"
        },
        "id": "PVPDNp25Schh",
        "outputId": "4477c225-4c60-4ce7-e7bf-71b613837466"
      },
      "source": [
        "action"
      ],
      "execution_count": null,
      "outputs": [
        {
          "output_type": "execute_result",
          "data": {
            "text/plain": [
              "array([[-0.69617873,  0.89243233, -0.9474367 ,  0.6710865 , -0.6153545 ,\n",
              "         0.19047476, -0.73005676, -0.7731029 ,  0.38900527,  0.8313227 ,\n",
              "         0.20968774,  0.961798  ,  0.7920115 , -0.630361  ,  0.9530088 ]],\n",
              "      dtype=float32)"
            ]
          },
          "metadata": {
            "tags": []
          },
          "execution_count": 539
        }
      ]
    },
    {
      "cell_type": "code",
      "metadata": {
        "colab": {
          "base_uri": "https://localhost:8080/",
          "height": 311
        },
        "id": "Q_k13XskaZ9i",
        "outputId": "e72c2621-bd31-49b9-db90-23ee0880392b"
      },
      "source": [
        "a, b=Phase_shifts(action, 5*3,hr, G, hd, 5, 80 )\n",
        "a.shape"
      ],
      "execution_count": null,
      "outputs": [
        {
          "output_type": "error",
          "ename": "TypeError",
          "evalue": "ignored",
          "traceback": [
            "\u001b[0;31m---------------------------------------------------------------------------\u001b[0m",
            "\u001b[0;31mTypeError\u001b[0m                                 Traceback (most recent call last)",
            "\u001b[0;32m<ipython-input-540-7414b9523258>\u001b[0m in \u001b[0;36m<module>\u001b[0;34m()\u001b[0m\n\u001b[0;32m----> 1\u001b[0;31m \u001b[0ma\u001b[0m\u001b[0;34m,\u001b[0m \u001b[0mb\u001b[0m\u001b[0;34m=\u001b[0m\u001b[0mPhase_shifts\u001b[0m\u001b[0;34m(\u001b[0m\u001b[0maction\u001b[0m\u001b[0;34m,\u001b[0m \u001b[0;36m5\u001b[0m\u001b[0;34m*\u001b[0m\u001b[0;36m3\u001b[0m\u001b[0;34m,\u001b[0m\u001b[0mhr\u001b[0m\u001b[0;34m,\u001b[0m \u001b[0mG\u001b[0m\u001b[0;34m,\u001b[0m \u001b[0mhd\u001b[0m\u001b[0;34m,\u001b[0m \u001b[0;36m5\u001b[0m\u001b[0;34m,\u001b[0m \u001b[0;36m80\u001b[0m \u001b[0;34m)\u001b[0m\u001b[0;34m\u001b[0m\u001b[0;34m\u001b[0m\u001b[0m\n\u001b[0m\u001b[1;32m      2\u001b[0m \u001b[0ma\u001b[0m\u001b[0;34m.\u001b[0m\u001b[0mshape\u001b[0m\u001b[0;34m\u001b[0m\u001b[0;34m\u001b[0m\u001b[0m\n",
            "\u001b[0;32m<ipython-input-529-59f74e7c8d19>\u001b[0m in \u001b[0;36mPhase_shifts\u001b[0;34m(angles, num_states, hr_, G_, hd_, Pmax, sigma)\u001b[0m\n\u001b[1;32m      4\u001b[0m   \u001b[0;31m#print(angles[2])\u001b[0m\u001b[0;34m\u001b[0m\u001b[0;34m\u001b[0m\u001b[0;34m\u001b[0m\u001b[0m\n\u001b[1;32m      5\u001b[0m   \u001b[0;32mfor\u001b[0m \u001b[0mi\u001b[0m \u001b[0;32min\u001b[0m \u001b[0mrange\u001b[0m\u001b[0;34m(\u001b[0m\u001b[0mlen\u001b[0m\u001b[0;34m(\u001b[0m\u001b[0mangles\u001b[0m\u001b[0;34m)\u001b[0m\u001b[0;34m)\u001b[0m\u001b[0;34m:\u001b[0m\u001b[0;34m\u001b[0m\u001b[0;34m\u001b[0m\u001b[0m\n\u001b[0;32m----> 6\u001b[0;31m     \u001b[0mangles_\u001b[0m\u001b[0;34m.\u001b[0m\u001b[0mappend\u001b[0m\u001b[0;34m(\u001b[0m\u001b[0mcmath\u001b[0m\u001b[0;34m.\u001b[0m\u001b[0mexp\u001b[0m\u001b[0;34m(\u001b[0m\u001b[0;36m1j\u001b[0m\u001b[0;34m*\u001b[0m\u001b[0mangles\u001b[0m\u001b[0;34m[\u001b[0m\u001b[0mi\u001b[0m\u001b[0;34m]\u001b[0m\u001b[0;34m)\u001b[0m\u001b[0;34m)\u001b[0m\u001b[0;34m\u001b[0m\u001b[0;34m\u001b[0m\u001b[0m\n\u001b[0m\u001b[1;32m      7\u001b[0m   \u001b[0mshifts\u001b[0m \u001b[0;34m=\u001b[0m \u001b[0mnp\u001b[0m\u001b[0;34m.\u001b[0m\u001b[0mdiag\u001b[0m\u001b[0;34m(\u001b[0m\u001b[0mangles_\u001b[0m\u001b[0;34m)\u001b[0m\u001b[0;34m\u001b[0m\u001b[0;34m\u001b[0m\u001b[0m\n\u001b[1;32m      8\u001b[0m   \u001b[0;32mreturn\u001b[0m \u001b[0mangles\u001b[0m\u001b[0;34m,\u001b[0m \u001b[0mshifts\u001b[0m\u001b[0;34m\u001b[0m\u001b[0;34m\u001b[0m\u001b[0m\n",
            "\u001b[0;31mTypeError\u001b[0m: only length-1 arrays can be converted to Python scalars"
          ]
        }
      ]
    },
    {
      "cell_type": "code",
      "metadata": {
        "colab": {
          "base_uri": "https://localhost:8080/",
          "height": 279
        },
        "id": "W8PiLS-ZctKC",
        "outputId": "a53b0cbc-15d0-4e4e-eb6e-27a7a20e272a"
      },
      "source": [
        "\n",
        "import sys\n",
        "import gym\n",
        "import numpy as np\n",
        "import pandas as pd\n",
        "import matplotlib.pyplot as plt\n",
        "\n",
        "Nx = 10\n",
        "Ny = 5\n",
        "M = 10\n",
        "T = 1000\n",
        "Pmax = 5\n",
        "d = 48\n",
        "num_states = Nx*Ny\n",
        "agent = DDPGagent(Nx*Ny, actor_learning_rate=1e-3, critic_learning_rate=1e-3, disc_fact=0.95, tau= 0.005, max_memory_size=50000)\n",
        "batch_size = 16\n",
        "rewards = []\n",
        "avg_rewards = []\n",
        "noise = OUNoise(Nx*Ny)\n",
        "\n",
        "for episode in range(50):\n",
        "    hr_ = np.matrix(rician_fading_h(2.8, 0, Nx, Ny, np.pi/6, np.pi/6, d))\n",
        "    G_ = np.matrix(rician_fading_G(2, np.inf, Nx ,Ny, M,np.pi/3, 5*np.pi/3, np.pi/6, d))\n",
        "    hd_ = np.matrix(rayleigh_fading(2.8, M, d))\n",
        "    angles = []\n",
        "    for i in range(Nx*Ny):\n",
        "      angles.append(2*np.pi*random.random())\n",
        "    angles, shifts = Phase_shifts(angles, Nx*Ny, hr_, G_, hd_, Pmax, 80)\n",
        "    #print(angles)\n",
        "    noise.reset()\n",
        "    snr = SNR(hr_, shifts, G_, hd_,  Pmax, 80)\n",
        "    #print(snr)\n",
        "    angles.append(snr)\n",
        "    state = np.matrix(angles)\n",
        "    #print(np.array(state)[0])\n",
        "    #noise = np.random.normal(loc=0, scale=np.sqrt(0.05), size=(Nx*Ny, 2)).view(np.complex128)\n",
        "    episode_reward = 0\n",
        "    \n",
        "    for step in range(T):\n",
        "        action = agent.get_action(state)\n",
        "        action__ = noise.get_action(action)\n",
        "        #print(action[0])\n",
        "        action_ = action__[0].tolist()\n",
        "        #print(action__)\n",
        "        new_angles, shifts = Phase_shifts(action_, Nx*Ny, hr, G, hd, Pmax, 80)\n",
        "        snr = SNR(hr_, shifts, G_, hd_,  Pmax, 80)\n",
        "        #print(snr)\n",
        "        new_angles.append(snr)\n",
        "        new_state = np.matrix(angles)\n",
        "        #print(new_state)\n",
        "        reward = new_state[:,-1].item()\n",
        "        agent.memory.push(np.array(state)[0], action__[0], reward, np.array(new_state)[0])\n",
        "        \n",
        "        if len(agent.memory) > batch_size:\n",
        "            agent.update(batch_size)        \n",
        "        \n",
        "        state = new_state\n",
        "        episode_reward += reward\n",
        "    rewards.append(episode_reward/T)\n",
        "    avg_rewards.append(np.mean(rewards[-10:]))\n",
        "\n",
        "plt.plot(rewards)\n",
        "plt.plot(avg_rewards)\n",
        "plt.plot()\n",
        "plt.xlabel('Episode')\n",
        "plt.ylabel('Reward')\n",
        "plt.grid()\n",
        "plt.show()"
      ],
      "execution_count": null,
      "outputs": [
        {
          "output_type": "display_data",
          "data": {
            "image/png": "[encoded data removed]",
            "text/plain": [
              "<Figure size 432x288 with 1 Axes>"
            ]
          },
          "metadata": {
            "tags": [],
            "needs_background": "light"
          }
        }
      ]
    },
    {
      "cell_type": "code",
      "metadata": {
        "colab": {
          "base_uri": "https://localhost:8080/"
        },
        "id": "n4CqdUEi19i6",
        "outputId": "6654f05c-e859-44a8-8a04-2c3b99ecaa11"
      },
      "source": [
        "rewards"
      ],
      "execution_count": null,
      "outputs": [
        {
          "output_type": "execute_result",
          "data": {
            "text/plain": [
              "[16.387041277117078,\n",
              " 13.763174411762655,\n",
              " 31.211661335611947,\n",
              " 9.080574202510688,\n",
              " 5.815654626066136,\n",
              " 20.528986335450753,\n",
              " 8.60852156619329,\n",
              " 11.894772753363332,\n",
              " 16.541065929550438,\n",
              " 0.5792265312289093,\n",
              " 42.77121233735688,\n",
              " 17.22326813679648,\n",
              " 13.944596072985908,\n",
              " 34.59080805033657,\n",
              " 8.555800202094105,\n",
              " 16.962990739122542,\n",
              " 0.7032121436516651,\n",
              " 8.930973802300485,\n",
              " 3.9548434476272645,\n",
              " 4.835003934647467,\n",
              " 45.883665509829996,\n",
              " 12.27661978190432,\n",
              " 3.0772496593417697,\n",
              " 9.715150586009209,\n",
              " 5.980755743773735,\n",
              " 19.58686347890003,\n",
              " 23.162845484783784,\n",
              " 38.24841849225466,\n",
              " 18.139639279307126,\n",
              " 28.635774186011144,\n",
              " 4.407339909895603,\n",
              " 12.354168919712377,\n",
              " 12.85058807817757,\n",
              " 11.118022888129252,\n",
              " 8.461767580747443,\n",
              " 15.997563559225913,\n",
              " 0.5305229577639508,\n",
              " 0.024160510466554316,\n",
              " 44.474190821099945,\n",
              " 21.188429236375665,\n",
              " 0.2916654993457304,\n",
              " 15.194349718714877,\n",
              " 0.965604208180798,\n",
              " 27.622112404976225,\n",
              " 14.449537137759886,\n",
              " 9.75635709824506,\n",
              " 52.245547813676666,\n",
              " 8.371950199164605,\n",
              " 10.126059846395394,\n",
              " 49.97857247690072]"
            ]
          },
          "metadata": {
            "tags": []
          },
          "execution_count": 693
        }
      ]
    },
    {
      "cell_type": "code",
      "metadata": {
        "colab": {
          "base_uri": "https://localhost:8080/"
        },
        "id": "HXl1LE5jCcbF",
        "outputId": "d23d8d44-45d0-4276-b92b-a891a41b8642"
      },
      "source": [
        "\n",
        "hr_ = np.matrix(rician_fading_h(2.8, 0, Nx, Ny, 5*np.pi/3, 2*np.pi/6, d))\n",
        "G_ = np.matrix(rician_fading_G(2, np.inf, Nx ,Ny, M,7*np.pi/4, 5*np.pi/6, np.pi/4, d))\n",
        "hd_ = np.matrix(rayleigh_fading(2.8, M, d))\n",
        "angles = []\n",
        "an = np.linspace(0, 1, 50)\n",
        "for i in an:\n",
        "  angles.append(2*np.pi*random.random())\n",
        "angles, shifts = Phase_shifts(angles, Nx*Ny, hr_, G_, hd_, Pmax, 80)\n",
        "snr = SNR(hr_, shifts, G_, hd_,  Pmax, 80)\n",
        "snr"
      ],
      "execution_count": null,
      "outputs": [
        {
          "output_type": "execute_result",
          "data": {
            "text/plain": [
              "2.955443856691618"
            ]
          },
          "metadata": {
            "tags": []
          },
          "execution_count": 694
        }
      ]
    },
    {
      "cell_type": "code",
      "metadata": {
        "colab": {
          "base_uri": "https://localhost:8080/"
        },
        "id": "5ZxgPZgXwq82",
        "outputId": "50820703-0c9d-4558-e408-1067135b2312"
      },
      "source": [
        "an"
      ],
      "execution_count": null,
      "outputs": [
        {
          "output_type": "execute_result",
          "data": {
            "text/plain": [
              "array([0.        , 0.02040816, 0.04081633, 0.06122449, 0.08163265,\n",
              "       0.10204082, 0.12244898, 0.14285714, 0.16326531, 0.18367347,\n",
              "       0.20408163, 0.2244898 , 0.24489796, 0.26530612, 0.28571429,\n",
              "       0.30612245, 0.32653061, 0.34693878, 0.36734694, 0.3877551 ,\n",
              "       0.40816327, 0.42857143, 0.44897959, 0.46938776, 0.48979592,\n",
              "       0.51020408, 0.53061224, 0.55102041, 0.57142857, 0.59183673,\n",
              "       0.6122449 , 0.63265306, 0.65306122, 0.67346939, 0.69387755,\n",
              "       0.71428571, 0.73469388, 0.75510204, 0.7755102 , 0.79591837,\n",
              "       0.81632653, 0.83673469, 0.85714286, 0.87755102, 0.89795918,\n",
              "       0.91836735, 0.93877551, 0.95918367, 0.97959184, 1.        ])"
            ]
          },
          "metadata": {
            "tags": []
          },
          "execution_count": 610
        }
      ]
    },
    {
      "cell_type": "code",
      "metadata": {
        "colab": {
          "base_uri": "https://localhost:8080/"
        },
        "id": "vgoauVCaweRe",
        "outputId": "e2d83bcb-63b9-4246-9c2a-c638095f04f5"
      },
      "source": [
        "hd_"
      ],
      "execution_count": null,
      "outputs": [
        {
          "output_type": "execute_result",
          "data": {
            "text/plain": [
              "matrix([[ 0.05191088-0.03203446j],\n",
              "        [ 0.11935066-0.06860345j],\n",
              "        [-0.12063634-0.20937766j],\n",
              "        [ 0.14915376-0.19458881j],\n",
              "        [ 0.14211592+0.03346198j],\n",
              "        [ 0.01120648-0.05810341j],\n",
              "        [ 0.11603288-0.04510178j],\n",
              "        [ 0.13203587-0.01285911j],\n",
              "        [-0.0068701 +0.02026694j],\n",
              "        [ 0.13506119+0.04766442j]])"
            ]
          },
          "metadata": {
            "tags": []
          },
          "execution_count": 611
        }
      ]
    },
    {
      "cell_type": "code",
      "metadata": {
        "colab": {
          "base_uri": "https://localhost:8080/"
        },
        "id": "D-i5LCiLwSTf",
        "outputId": "517a0dfc-7357-4cf4-a594-c2a7e2ccd47d"
      },
      "source": [
        "state"
      ],
      "execution_count": null,
      "outputs": [
        {
          "output_type": "execute_result",
          "data": {
            "text/plain": [
              "matrix([[2.35096726, 4.01078782, 3.74522033, 0.49852548, 0.72148644,\n",
              "         4.75488745, 5.65200511, 3.68765496, 1.84274254, 0.7426626 ,\n",
              "         5.16411197, 2.86629497, 2.59703958, 2.04753304, 1.05241827,\n",
              "         3.28853497, 0.26423602, 0.5755661 , 0.748011  , 2.67294295,\n",
              "         2.35943591, 0.30888564, 3.26547334, 0.96895927, 4.88610469,\n",
              "         4.9614098 , 4.43974428, 0.94409568, 3.07616209, 5.6119743 ,\n",
              "         2.67595051, 1.43226666, 4.89815079, 1.18750519, 4.65837174,\n",
              "         0.49705965, 2.14881836, 5.31366735, 1.74556343, 1.23565433,\n",
              "         4.06439669, 5.79895222, 5.289556  , 2.4339274 , 4.31456321,\n",
              "         2.74242379, 5.32568953, 5.40757807, 6.11469505, 1.10896554,\n",
              "         7.43234118]])"
            ]
          },
          "metadata": {
            "tags": []
          },
          "execution_count": 612
        }
      ]
    },
    {
      "cell_type": "code",
      "metadata": {
        "colab": {
          "base_uri": "https://localhost:8080/"
        },
        "id": "xFOQXKzuClj3",
        "outputId": "e563eff1-2c3c-4abb-e527-2af3834d90ed"
      },
      "source": [
        "hd"
      ],
      "execution_count": null,
      "outputs": [
        {
          "output_type": "execute_result",
          "data": {
            "text/plain": [
              "matrix([[ 0.05614435+0.44808339j],\n",
              "        [-0.01265625-0.29550421j],\n",
              "        [ 0.14940956-0.16426681j],\n",
              "        [-0.00454192+0.42408331j],\n",
              "        [-0.03003696-0.14686732j],\n",
              "        [ 0.21242496-0.13268478j],\n",
              "        [-0.1267332 +0.08644797j],\n",
              "        [-0.5589931 -0.11555929j]])"
            ]
          },
          "metadata": {
            "tags": []
          },
          "execution_count": 613
        }
      ]
    },
    {
      "cell_type": "code",
      "metadata": {
        "colab": {
          "base_uri": "https://localhost:8080/"
        },
        "id": "qYr8DKj5CWrg",
        "outputId": "43770d58-43e5-4e6e-bf41-cd58f6a1014d"
      },
      "source": [
        "rewards"
      ],
      "execution_count": null,
      "outputs": [
        {
          "output_type": "execute_result",
          "data": {
            "text/plain": [
              "[7.618076549455738,\n",
              " 0.06909483079122401,\n",
              " 1.5058367663158936,\n",
              " 4.724692601663872,\n",
              " 0.9451232581839198,\n",
              " 4.27962961938225,\n",
              " 2.4287520878635407,\n",
              " 9.292429217755652,\n",
              " 3.0068524364401217,\n",
              " 4.715116119907255,\n",
              " 6.350804313100526,\n",
              " 0.699243602472383,\n",
              " 9.292148847986779,\n",
              " 1.2104724888624017,\n",
              " 0.3334685883171504,\n",
              " 0.2736735874012981,\n",
              " 11.703087209377648,\n",
              " 0.10521210541361282,\n",
              " 0.5894983896044906,\n",
              " 1.6013181554161975,\n",
              " 11.26640217536441,\n",
              " 0.21602021176574612,\n",
              " 5.889068131426938,\n",
              " 0.5804350959372213,\n",
              " 8.930254725817377,\n",
              " 0.413450687529476,\n",
              " 4.053475070977693,\n",
              " 0.049104222581320266,\n",
              " 1.2634704315367766,\n",
              " 0.9005910393179056,\n",
              " 11.278035785086114,\n",
              " 16.4700698142602,\n",
              " 2.5811705102519658,\n",
              " 1.4000231272971009,\n",
              " 2.5124429136880737,\n",
              " 14.32553336459399,\n",
              " 1.7761244390852164,\n",
              " 2.3248560339038824,\n",
              " 0.4035524171782016,\n",
              " 2.933316789304043,\n",
              " 1.45595763630377,\n",
              " 1.4791701451395007,\n",
              " 6.294037283721011,\n",
              " 2.183430224574913,\n",
              " 0.44741342101320947,\n",
              " 5.9584074756121685,\n",
              " 3.9235421007768965,\n",
              " 8.638955239896001,\n",
              " 3.571586785747839,\n",
              " 7.432341183747729]"
            ]
          },
          "metadata": {
            "tags": []
          },
          "execution_count": 614
        }
      ]
    },
    {
      "cell_type": "code",
      "metadata": {
        "id": "eeFL8SUozZGV"
      },
      "source": [
        "def IRS_problem(d):\n",
        "  Nx = 10\n",
        "  Ny = 5\n",
        "  M = 10\n",
        "  T = 1000\n",
        "  Pmax = 5 \n",
        "  num_states = Nx*Ny\n",
        "  agent = DDPGagent(Nx*Ny, actor_learning_rate=1e-3, critic_learning_rate=1e-3, disc_fact=0.95, tau= 0.005, max_memory_size=50000)\n",
        "  batch_size = 16\n",
        "  rewards = []\n",
        "  avg_rewards = []\n",
        "\n",
        "  for episode in range(50):\n",
        "    hr_ = np.matrix(rician_fading_h(2.8, 0, Nx, Ny, np.pi/6, np.pi/6, d))\n",
        "    G_ = np.matrix(rician_fading_G(2, np.inf, Nx ,Ny, M,np.pi/3, 5*np.pi/3, np.pi/6, d))\n",
        "    hd_ = np.matrix(rayleigh_fading(2.8, M, d))\n",
        "    angles = []\n",
        "    for i in range(Nx*Ny):\n",
        "      angles.append(2*np.pi*random.random())\n",
        "    angles, shifts = Phase_shifts(angles, Nx*Ny, hr_, G_, hd_, Pmax, 80)\n",
        "    snr = SNR(hr_, shifts, G_, hd_,  Pmax, 80)\n",
        "    #print(snr)\n",
        "    angles.append(snr)\n",
        "    state = np.matrix(angles)\n",
        "    #print(np.array(state)[0])\n",
        "    noise = np.random.normal(loc=0, scale=np.sqrt(0.05), size=(Nx*Ny, 2)).view(np.complex128)\n",
        "    episode_reward = 0\n",
        "    \n",
        "    for step in range(T):\n",
        "      action = agent.get_action(state)\n",
        "      noise = noise.reshape(action.shape)\n",
        "      action = action + noise\n",
        "      #print(action[0])\n",
        "      action_ = action[0].tolist()\n",
        "      new_angles, shifts = Phase_shifts(action_, Nx*Ny, hr_, G_, hd_, Pmax, 80)\n",
        "      snr = SNR(hr_, shifts, G_, hd_,  Pmax, 80)\n",
        "      new_angles.append(snr)\n",
        "      new_state = np.matrix(angles)\n",
        "      #print(new_state)\n",
        "      reward = new_state[:,-1].item()\n",
        "      agent.memory.push(np.array(state)[0], action[0], reward, np.array(new_state)[0])\n",
        "      if len(agent.memory) > batch_size:\n",
        "        agent.update(batch_size)        \n",
        "      state = new_state\n",
        "      episode_reward += reward\n",
        "    rewards.append(episode_reward/T)\n",
        "    avg_rewards.append(np.mean(rewards[-10:]))\n",
        "  return np.mean(rewards)\n"
      ],
      "execution_count": null,
      "outputs": []
    },
    {
      "cell_type": "code",
      "metadata": {
        "colab": {
          "base_uri": "https://localhost:8080/"
        },
        "id": "kpVRZFsEapfd",
        "outputId": "a8d5864e-c5b4-46b4-c045-2bd061479f0b"
      },
      "source": [
        "angles"
      ],
      "execution_count": null,
      "outputs": [
        {
          "output_type": "execute_result",
          "data": {
            "text/plain": [
              "[4.12454537601207,\n",
              " 2.5010908586490013,\n",
              " 1.6614064974812828,\n",
              " 0.07401900461802405,\n",
              " 0.21791122790050357,\n",
              " 2.089866983163486,\n",
              " 4.568551171741723,\n",
              " 3.0578457448647867,\n",
              " 1.2625973739904597,\n",
              " 5.608621790332854,\n",
              " 0.914026581335399,\n",
              " 4.570175239133554,\n",
              " 4.15736139881632,\n",
              " 3.182933733290785,\n",
              " 1.745564169362436,\n",
              " 4.9787770889564,\n",
              " 4.276077943224722,\n",
              " 4.440028047301033,\n",
              " 3.3439826167099613,\n",
              " 0.3632960490664434,\n",
              " 1.4064926814386218,\n",
              " 0.7074508389435534,\n",
              " 4.9286431869537255,\n",
              " 4.058159349604223,\n",
              " 5.113518233898287,\n",
              " 2.3836270521305245,\n",
              " 1.5299954330313426,\n",
              " 5.015611462882546,\n",
              " 1.2942993605456237,\n",
              " 0.6466262654798092,\n",
              " 2.1673834386090864,\n",
              " 0.234676877263881,\n",
              " 0.7993215393695646,\n",
              " 3.44593700461839,\n",
              " 5.706796573262027,\n",
              " 3.383132082889001,\n",
              " 5.850645953802782,\n",
              " 0.31718482302492684,\n",
              " 3.296562825873307,\n",
              " 0.5912999190338697,\n",
              " 2.043558429303741,\n",
              " 6.279857773657252,\n",
              " 2.3379557315470234,\n",
              " 2.5501795954219753,\n",
              " 5.407019318806661,\n",
              " 4.158020747000575,\n",
              " 4.398168719373125,\n",
              " 2.2251676678478294,\n",
              " 3.5577064783872703,\n",
              " 5.856436849625039]"
            ]
          },
          "metadata": {
            "tags": []
          },
          "execution_count": 697
        }
      ]
    },
    {
      "cell_type": "code",
      "metadata": {
        "colab": {
          "base_uri": "https://localhost:8080/"
        },
        "id": "vxEF2jbxviRW",
        "outputId": "8782ebed-6da3-40d7-ff73-ba4a5ef4e899"
      },
      "source": [
        "d_ = np.linspace(35, 100, 8)\n",
        "snr = []\n",
        "for d in d_:\n",
        "  rew = IRS_problem(d)\n",
        "  snr.append(rew)\n"
      ],
      "execution_count": null,
      "outputs": [
        {
          "output_type": "stream",
          "text": [
            "/usr/local/lib/python3.7/dist-packages/ipykernel_launcher.py:48: ComplexWarning: Casting complex values to real discards the imaginary part\n"
          ],
          "name": "stderr"
        }
      ]
    },
    {
      "cell_type": "code",
      "metadata": {
        "colab": {
          "base_uri": "https://localhost:8080/",
          "height": 260
        },
        "id": "vJP2DAYd7KJ1",
        "outputId": "fb862502-255c-4164-9705-3ec2fc4a1cf1"
      },
      "source": [
        "angles = []\n",
        "for i in range(Nx*Ny):\n",
        "  angles.append(2*np.pi*random.random())\n",
        "angles, shifts = Phase_shifts(angles, Nx*Ny, hr_, G_, hd_, Pmax, 80)\n",
        "snr = SNR(hr_, shifts, G_, hd_,  Pmax, 80).item()"
      ],
      "execution_count": null,
      "outputs": [
        {
          "output_type": "stream",
          "text": [
            "/usr/local/lib/python3.7/dist-packages/ipykernel_launcher.py:7: RuntimeWarning: invalid value encountered in true_divide\n",
            "  import sys\n"
          ],
          "name": "stderr"
        },
        {
          "output_type": "error",
          "ename": "AttributeError",
          "evalue": "ignored",
          "traceback": [
            "\u001b[0;31m---------------------------------------------------------------------------\u001b[0m",
            "\u001b[0;31mAttributeError\u001b[0m                            Traceback (most recent call last)",
            "\u001b[0;32m<ipython-input-686-da9ec3330de3>\u001b[0m in \u001b[0;36m<module>\u001b[0;34m()\u001b[0m\n\u001b[1;32m      3\u001b[0m   \u001b[0mangles\u001b[0m\u001b[0;34m.\u001b[0m\u001b[0mappend\u001b[0m\u001b[0;34m(\u001b[0m\u001b[0;36m2\u001b[0m\u001b[0;34m*\u001b[0m\u001b[0mnp\u001b[0m\u001b[0;34m.\u001b[0m\u001b[0mpi\u001b[0m\u001b[0;34m*\u001b[0m\u001b[0mrandom\u001b[0m\u001b[0;34m.\u001b[0m\u001b[0mrandom\u001b[0m\u001b[0;34m(\u001b[0m\u001b[0;34m)\u001b[0m\u001b[0;34m)\u001b[0m\u001b[0;34m\u001b[0m\u001b[0;34m\u001b[0m\u001b[0m\n\u001b[1;32m      4\u001b[0m \u001b[0mangles\u001b[0m\u001b[0;34m,\u001b[0m \u001b[0mshifts\u001b[0m \u001b[0;34m=\u001b[0m \u001b[0mPhase_shifts\u001b[0m\u001b[0;34m(\u001b[0m\u001b[0mangles\u001b[0m\u001b[0;34m,\u001b[0m \u001b[0mNx\u001b[0m\u001b[0;34m*\u001b[0m\u001b[0mNy\u001b[0m\u001b[0;34m,\u001b[0m \u001b[0mhr_\u001b[0m\u001b[0;34m,\u001b[0m \u001b[0mG_\u001b[0m\u001b[0;34m,\u001b[0m \u001b[0mhd_\u001b[0m\u001b[0;34m,\u001b[0m \u001b[0mPmax\u001b[0m\u001b[0;34m,\u001b[0m \u001b[0;36m80\u001b[0m\u001b[0;34m)\u001b[0m\u001b[0;34m\u001b[0m\u001b[0;34m\u001b[0m\u001b[0m\n\u001b[0;32m----> 5\u001b[0;31m \u001b[0msnr\u001b[0m \u001b[0;34m=\u001b[0m \u001b[0mSNR\u001b[0m\u001b[0;34m(\u001b[0m\u001b[0mhr_\u001b[0m\u001b[0;34m,\u001b[0m \u001b[0mshifts\u001b[0m\u001b[0;34m,\u001b[0m \u001b[0mG_\u001b[0m\u001b[0;34m,\u001b[0m \u001b[0mhd_\u001b[0m\u001b[0;34m,\u001b[0m  \u001b[0mPmax\u001b[0m\u001b[0;34m,\u001b[0m \u001b[0;36m80\u001b[0m\u001b[0;34m)\u001b[0m\u001b[0;34m.\u001b[0m\u001b[0mitem\u001b[0m\u001b[0;34m(\u001b[0m\u001b[0;34m)\u001b[0m\u001b[0;34m\u001b[0m\u001b[0;34m\u001b[0m\u001b[0m\n\u001b[0m",
            "\u001b[0;31mAttributeError\u001b[0m: 'float' object has no attribute 'item'"
          ]
        }
      ]
    },
    {
      "cell_type": "code",
      "metadata": {
        "colab": {
          "base_uri": "https://localhost:8080/",
          "height": 295
        },
        "id": "fioz0QFazdmI",
        "outputId": "b308477e-7fda-4435-c57c-f8f2daf52b9d"
      },
      "source": [
        "plt.plot(d_, snr)\n",
        "plt.xlabel(\"distance, d(m)\")\n",
        "plt.ylabel(\"SNR(reward)\")\n",
        "plt.title(\"Recieved SNR vs. BS-User horizontal distance\")\n",
        "plt.grid()\n",
        "plt.show()"
      ],
      "execution_count": null,
      "outputs": [
        {
          "output_type": "display_data",
          "data": {
            "image/png": "[encoded data removed]",
            "text/plain": [
              "<Figure size 432x288 with 1 Axes>"
            ]
          },
          "metadata": {
            "tags": [],
            "needs_background": "light"
          }
        }
      ]
    },
    {
      "cell_type": "code",
      "metadata": {
        "colab": {
          "base_uri": "https://localhost:8080/",
          "height": 295
        },
        "id": "yoMN6b13LnuP",
        "outputId": "2d0cbdb0-1b98-494d-bca8-9078c129ebd1"
      },
      "source": [
        "plt.plot(d_, snr)\n",
        "plt.xlabel(\"distance, d(m)\")\n",
        "plt.ylabel(\"SNR(reward)\")\n",
        "plt.title(\"Recieved SNR vs. BS-User horizontal distance\")\n",
        "plt.grid()\n",
        "plt.show()"
      ],
      "execution_count": null,
      "outputs": [
        {
          "output_type": "display_data",
          "data": {
            "image/png": "[encoded data removed]",
            "text/plain": [
              "<Figure size 432x288 with 1 Axes>"
            ]
          },
          "metadata": {
            "tags": [],
            "needs_background": "light"
          }
        }
      ]
    },
    {
      "cell_type": "code",
      "metadata": {
        "id": "5PdhtXwG1qXA"
      },
      "source": [
        "def IRS_problem(Ny):\n",
        "  Nx = 10\n",
        "  M = 10\n",
        "  T = 1000\n",
        "  d = 90\n",
        "  Pmax = 5 \n",
        "  num_states = Nx*Ny\n",
        "  #print(num_states)\n",
        "  #print(Nx*Ny)\n",
        "  agent = DDPGagent(Nx*Ny, actor_learning_rate=1e-3, critic_learning_rate=1e-3, disc_fact=0.95, tau= 0.005, max_memory_size=50000)\n",
        "  batch_size = 16\n",
        "  rewards = []\n",
        "  avg_rewards = []\n",
        "\n",
        "  for episode in range(50):\n",
        "    hr_ = np.matrix(rician_fading_h(2.8, 0, Nx, Ny, np.pi/6, np.pi/6, d))\n",
        "    G_ = np.matrix(rician_fading_G(2, np.inf, Nx ,Ny, M,np.pi/3, 5*np.pi/3, np.pi/6, d))\n",
        "    hd_ = np.matrix(rayleigh_fading(2.8, M, d))\n",
        "    angles = []\n",
        "    for i in range(Nx*Ny):\n",
        "      angles.append(2*np.pi*random.random())\n",
        "    angles, shifts = Phase_shifts(angles, Nx*Ny, hr_, G_, hd_, Pmax, 80)\n",
        "    snr = SNR(hr_, shifts, G_, hd_,  Pmax, 80)\n",
        "    #print(snr)\n",
        "    angles.append(snr)\n",
        "    state = np.matrix(angles)\n",
        "    #print(np.array(state)[0])\n",
        "    noise = np.random.normal(loc=0, scale=np.sqrt(0.05), size=(Nx*Ny, 2)).view(np.complex128)\n",
        "    episode_reward = 0\n",
        "    \n",
        "    for step in range(T):\n",
        "      action = agent.get_action(state)\n",
        "      noise = noise.reshape(action.shape)\n",
        "      action = action + noise\n",
        "      #print(action[0])\n",
        "      action_ = action[0].tolist()\n",
        "      new_angles, shifts = Phase_shifts(action_, Nx*Ny, hr_, G_, hd_, Pmax, 80)\n",
        "      snr = SNR(hr_, shifts, G_, hd_,  Pmax, 80)\n",
        "      new_angles.append(snr)\n",
        "      new_state = np.matrix(angles)\n",
        "      #print(new_state)\n",
        "      reward = new_state[:,-1].item()\n",
        "      agent.memory.push(np.array(state)[0], action[0], reward, np.array(new_state)[0])\n",
        "      if len(agent.memory) > batch_size:\n",
        "        agent.update(batch_size)        \n",
        "      state = new_state\n",
        "      episode_reward += reward\n",
        "    rewards.append(episode_reward/T)\n",
        "    avg_rewards.append(np.mean(rewards[-10:]))\n",
        "  return np.mean(rewards)\n"
      ],
      "execution_count": null,
      "outputs": []
    },
    {
      "cell_type": "code",
      "metadata": {
        "id": "HUzg8WDjz962"
      },
      "source": [
        "snr1 = snr"
      ],
      "execution_count": null,
      "outputs": []
    },
    {
      "cell_type": "code",
      "metadata": {
        "colab": {
          "base_uri": "https://localhost:8080/"
        },
        "id": "TeVTjf_oIiou",
        "outputId": "9a5850ef-61a7-462f-8221-4c5977637b01"
      },
      "source": [
        "N = [2, 3, 4, 5, 6, 7]\n",
        "snr_ = []\n",
        "for Ny in N:\n",
        "  rew = IRS_problem(Ny)\n",
        "  snr_.append(rew)\n"
      ],
      "execution_count": null,
      "outputs": [
        {
          "output_type": "stream",
          "text": [
            "/usr/local/lib/python3.7/dist-packages/ipykernel_launcher.py:49: ComplexWarning: Casting complex values to real discards the imaginary part\n"
          ],
          "name": "stderr"
        }
      ]
    },
    {
      "cell_type": "code",
      "metadata": {
        "id": "pivp9D1RD7LH"
      },
      "source": [
        "for i in range(len(N)):\n",
        "  N[i] = 10* N[i]"
      ],
      "execution_count": null,
      "outputs": []
    },
    {
      "cell_type": "code",
      "metadata": {
        "colab": {
          "base_uri": "https://localhost:8080/",
          "height": 295
        },
        "id": "AlDpXgT8Chpd",
        "outputId": "2e429900-eff9-4a53-87f0-587ce10af0c4"
      },
      "source": [
        "plt.plot(N, snr_)\n",
        "plt.xlabel(\"Number of elements at IRS, N\")\n",
        "plt.ylabel(\"SNR(reward)\")\n",
        "plt.title(\"Recieved SNR vs. Number of elements in IRS\")\n",
        "plt.grid()\n",
        "plt.show()"
      ],
      "execution_count": null,
      "outputs": [
        {
          "output_type": "display_data",
          "data": {
            "image/png": "[encoded data removed]",
            "text/plain": [
              "<Figure size 432x288 with 1 Axes>"
            ]
          },
          "metadata": {
            "tags": [],
            "needs_background": "light"
          }
        }
      ]
    },
    {
      "cell_type": "code",
      "metadata": {
        "colab": {
          "base_uri": "https://localhost:8080/"
        },
        "id": "TgHUhP94-hSK",
        "outputId": "a7f0e904-400a-4c91-e4da-d8b14fd8e193"
      },
      "source": [
        "action = agent.get_action(np.matrix(angles))\n",
        "action"
      ],
      "execution_count": null,
      "outputs": [
        {
          "output_type": "execute_result",
          "data": {
            "text/plain": [
              "array([[ 0.9999956 , -0.8653072 , -0.99963915,  1.        , -0.9999997 ,\n",
              "        -0.9977284 ,  0.99999994, -0.9999959 , -1.        ,  0.9999976 ,\n",
              "        -0.15700561,  0.9992666 , -0.9999982 , -0.9999989 ,  1.        ,\n",
              "        -0.9999984 , -0.99999976, -1.        ,  0.99999696, -0.99999934,\n",
              "        -0.99999994,  0.9999999 , -0.9999905 ,  0.9999983 , -0.99999714,\n",
              "        -0.9999999 ,  0.9999968 ,  0.9999981 ,  0.9998087 , -0.99999994,\n",
              "        -1.        , -1.        ,  0.9999995 , -1.        , -1.        ,\n",
              "         0.9999944 ,  0.99999994,  0.99999994, -0.99999994, -0.9999995 ,\n",
              "        -0.9999834 , -0.99999887,  0.99999994, -0.9999998 ,  0.9999798 ,\n",
              "        -0.9991274 ,  0.9999999 , -0.9999965 ,  0.9999999 ,  0.9999979 ]],\n",
              "      dtype=float32)"
            ]
          },
          "metadata": {
            "tags": []
          },
          "execution_count": 120
        }
      ]
    },
    {
      "cell_type": "code",
      "metadata": {
        "id": "z2j3JkEJ-tt7"
      },
      "source": [
        "action = action + np.random.normal(loc=0, scale=np.sqrt(0.05), size=(Nx*Ny, 2)).view(np.complex128)"
      ],
      "execution_count": null,
      "outputs": []
    },
    {
      "cell_type": "code",
      "metadata": {
        "id": "KouUvcH_-ujo"
      },
      "source": [
        "action_ = action[0].tolist()\n",
        "new_angles, shifts = Phase_shifts(action_, Nx*Ny, hr, G, hd, Pmax, 80)"
      ],
      "execution_count": null,
      "outputs": []
    },
    {
      "cell_type": "code",
      "metadata": {
        "id": "M3OZbVPyHup5"
      },
      "source": [
        "snr = SNR(hr_, shifts, G_, hd_,  Pmax, 80).item()"
      ],
      "execution_count": null,
      "outputs": []
    },
    {
      "cell_type": "code",
      "metadata": {
        "colab": {
          "base_uri": "https://localhost:8080/"
        },
        "id": "1bL2cr5XIYHF",
        "outputId": "d4d4a742-68cf-4cdb-ea8d-ca50b03bc965"
      },
      "source": [
        "np.matmul(sum, sum.getH())"
      ],
      "execution_count": null,
      "outputs": [
        {
          "output_type": "execute_result",
          "data": {
            "text/plain": [
              "matrix([[47129.23115183+0.j]])"
            ]
          },
          "metadata": {
            "tags": []
          },
          "execution_count": 84
        }
      ]
    },
    {
      "cell_type": "code",
      "metadata": {
        "id": "pjRxe0RCIYsq"
      },
      "source": [
        "sum = np.matmul(np.matmul(hr_.getH(), shifts), G_) + hd_.getH()\n",
        "b = np.sqrt(Pmax)* sum.getH() / np.matmul(sum, sum.getH()).item()\n"
      ],
      "execution_count": null,
      "outputs": []
    },
    {
      "cell_type": "code",
      "metadata": {
        "id": "vv9WkMANKoOj"
      },
      "source": [
        "hr_ = np.matrix(rician_fading_h(2.8, 10, Nx, Ny, 5*np.pi/3, 2*np.pi/6, d))\n",
        "G_ = np.matrix(rician_fading_G(2, 10, Nx ,Ny, M,7*np.pi/4, 5*np.pi/6, np.pi/4, d))\n",
        "hd_ = np.matrix(rayleigh_fading(2.8, M, d))"
      ],
      "execution_count": null,
      "outputs": []
    },
    {
      "cell_type": "code",
      "metadata": {
        "colab": {
          "base_uri": "https://localhost:8080/"
        },
        "id": "C4-M3UlbKoOl",
        "outputId": "a5fbdc65-95a4-4bbf-b2cc-83e7005cae73"
      },
      "source": [
        "angles = []\n",
        "coeff = np.linspace(0, 2, Nx*Ny)\n",
        "for i in range(Nx*Ny):\n",
        "  angles.append(np.pi*coeff[i])\n",
        "angles, shifts = Phase_shifts(angles, Nx*Ny, hr_, G_, hd_, Pmax, 80)\n",
        "snr = SNR(hr_, shifts, G_, hd_,  Pmax, 80).item()\n",
        "snr"
      ],
      "execution_count": null,
      "outputs": [
        {
          "output_type": "execute_result",
          "data": {
            "text/plain": [
              "140.51838401125408"
            ]
          },
          "metadata": {
            "tags": []
          },
          "execution_count": 166
        }
      ]
    },
    {
      "cell_type": "code",
      "metadata": {
        "colab": {
          "base_uri": "https://localhost:8080/",
          "height": 204
        },
        "id": "7NG_YArkKqTt",
        "outputId": "aeacb0a4-f7ea-4729-87f8-6cbded61731d"
      },
      "source": [
        "sum = np.matmul(np.matmul(hr_.getH(), shifts), G_) + hd_.getH()\n",
        "b = np.sqrt(Pmax)* sum.getH() / np.sqrt(np.matmul(sum, sum.getH()).item())\n",
        "np.matmul()"
      ],
      "execution_count": null,
      "outputs": [
        {
          "output_type": "error",
          "ename": "ValueError",
          "evalue": "ignored",
          "traceback": [
            "\u001b[0;31m---------------------------------------------------------------------------\u001b[0m",
            "\u001b[0;31mValueError\u001b[0m                                Traceback (most recent call last)",
            "\u001b[0;32m<ipython-input-167-bcc11e238dce>\u001b[0m in \u001b[0;36m<module>\u001b[0;34m()\u001b[0m\n\u001b[1;32m      1\u001b[0m \u001b[0msum\u001b[0m \u001b[0;34m=\u001b[0m \u001b[0mnp\u001b[0m\u001b[0;34m.\u001b[0m\u001b[0mmatmul\u001b[0m\u001b[0;34m(\u001b[0m\u001b[0mnp\u001b[0m\u001b[0;34m.\u001b[0m\u001b[0mmatmul\u001b[0m\u001b[0;34m(\u001b[0m\u001b[0mhr_\u001b[0m\u001b[0;34m.\u001b[0m\u001b[0mgetH\u001b[0m\u001b[0;34m(\u001b[0m\u001b[0;34m)\u001b[0m\u001b[0;34m,\u001b[0m \u001b[0mshifts\u001b[0m\u001b[0;34m)\u001b[0m\u001b[0;34m,\u001b[0m \u001b[0mG_\u001b[0m\u001b[0;34m)\u001b[0m \u001b[0;34m+\u001b[0m \u001b[0mhd_\u001b[0m\u001b[0;34m.\u001b[0m\u001b[0mgetH\u001b[0m\u001b[0;34m(\u001b[0m\u001b[0;34m)\u001b[0m\u001b[0;34m\u001b[0m\u001b[0;34m\u001b[0m\u001b[0m\n\u001b[1;32m      2\u001b[0m \u001b[0mb\u001b[0m \u001b[0;34m=\u001b[0m \u001b[0mnp\u001b[0m\u001b[0;34m.\u001b[0m\u001b[0msqrt\u001b[0m\u001b[0;34m(\u001b[0m\u001b[0mPmax\u001b[0m\u001b[0;34m)\u001b[0m\u001b[0;34m*\u001b[0m \u001b[0msum\u001b[0m\u001b[0;34m.\u001b[0m\u001b[0mgetH\u001b[0m\u001b[0;34m(\u001b[0m\u001b[0;34m)\u001b[0m \u001b[0;34m/\u001b[0m \u001b[0mnp\u001b[0m\u001b[0;34m.\u001b[0m\u001b[0msqrt\u001b[0m\u001b[0;34m(\u001b[0m\u001b[0mnp\u001b[0m\u001b[0;34m.\u001b[0m\u001b[0mmatmul\u001b[0m\u001b[0;34m(\u001b[0m\u001b[0msum\u001b[0m\u001b[0;34m,\u001b[0m \u001b[0msum\u001b[0m\u001b[0;34m.\u001b[0m\u001b[0mgetH\u001b[0m\u001b[0;34m(\u001b[0m\u001b[0;34m)\u001b[0m\u001b[0;34m)\u001b[0m\u001b[0;34m.\u001b[0m\u001b[0mitem\u001b[0m\u001b[0;34m(\u001b[0m\u001b[0;34m)\u001b[0m\u001b[0;34m)\u001b[0m\u001b[0;34m\u001b[0m\u001b[0;34m\u001b[0m\u001b[0m\n\u001b[0;32m----> 3\u001b[0;31m \u001b[0mnp\u001b[0m\u001b[0;34m.\u001b[0m\u001b[0mmatmul\u001b[0m\u001b[0;34m(\u001b[0m\u001b[0;34m)\u001b[0m\u001b[0;34m\u001b[0m\u001b[0;34m\u001b[0m\u001b[0m\n\u001b[0m",
            "\u001b[0;31mValueError\u001b[0m: invalid number of arguments"
          ]
        }
      ]
    },
    {
      "cell_type": "code",
      "metadata": {
        "id": "5xhbYDXoKuBf"
      },
      "source": [
        "T = state[0][0]"
      ],
      "execution_count": null,
      "outputs": []
    },
    {
      "cell_type": "code",
      "metadata": {
        "colab": {
          "base_uri": "https://localhost:8080/"
        },
        "id": "DAZ6LcHYEirQ",
        "outputId": "de220ca5-8167-4fb7-9f0d-e1696d52d26d"
      },
      "source": [
        "(1/np.pi)*state"
      ],
      "execution_count": null,
      "outputs": [
        {
          "output_type": "execute_result",
          "data": {
            "text/plain": [
              "matrix([[7.15785256e-01, 1.05856522e+00, 2.57268909e-01, 1.33120621e-01,\n",
              "         7.47774917e-01, 7.47109833e-01, 1.58887278e+00, 1.24657003e-01,\n",
              "         3.31699353e-01, 6.38616118e-01, 9.28549928e-01, 5.98432795e-01,\n",
              "         1.51716739e+00, 2.20067191e-01, 1.65883809e+00, 1.17209696e+00,\n",
              "         4.39497763e-01, 1.18824368e+00, 1.56332923e+00, 1.02618230e+00,\n",
              "         1.08113458e+00, 1.17355341e+00, 6.67961649e-01, 8.57108869e-01,\n",
              "         8.47066488e-03, 6.26771649e-01, 1.14812246e+00, 5.55308611e-01,\n",
              "         5.71950506e-01, 7.48773018e-01, 9.70698181e-01, 2.19564564e-01,\n",
              "         1.14186897e+00, 9.74878954e-01, 1.81293079e+00, 5.54728567e-01,\n",
              "         1.36892407e+00, 1.69090591e+00, 1.54796260e-01, 1.45179638e+00,\n",
              "         1.46245475e+00, 1.98705235e+00, 1.48016775e+00, 5.21080608e-02,\n",
              "         1.32984532e+00, 7.45628169e-02, 8.59544624e-01, 5.81914973e-01,\n",
              "         5.04006585e-02, 5.54600553e-01, 1.59086737e+01]])"
            ]
          },
          "metadata": {
            "tags": []
          },
          "execution_count": 750
        }
      ]
    },
    {
      "cell_type": "code",
      "metadata": {
        "colab": {
          "base_uri": "https://localhost:8080/"
        },
        "id": "ydailbUCEz7l",
        "outputId": "6d72fd50-cd0f-4f93-dfd8-ca099a39ce56"
      },
      "source": [
        "T.tolist()[0]"
      ],
      "execution_count": null,
      "outputs": [
        {
          "output_type": "execute_result",
          "data": {
            "text/plain": [
              "[]"
            ]
          },
          "metadata": {
            "tags": []
          },
          "execution_count": 749
        }
      ]
    },
    {
      "cell_type": "code",
      "metadata": {
        "id": "3TbgYBAFFHJ9"
      },
      "source": [
        ""
      ],
      "execution_count": null,
      "outputs": []
    }
  ]
}